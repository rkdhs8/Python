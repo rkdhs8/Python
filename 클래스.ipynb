{
 "cells": [
  {
   "cell_type": "markdown",
   "metadata": {},
   "source": [
    "#### 클래스\n",
    "\n",
    "- 클래스 : 똑같은 무엇인가를 계속해서 만들어 낼 수 있는 설계 도면(과자틀)\n",
    "- 객체 : 클래스로 만든 피조물(과자 틀을 사용해 만든 과자)\n",
    "- 메서드 : 클래스 안에 구현된 함수\n",
    "\n",
    "```python\n",
    "class Cookie:\n",
    "    pass\n",
    "\n",
    "a = Cookie()\n",
    "b = Cookie()\n",
    "```\n",
    "\n",
    "- a와 b는 객체이다.\n",
    "- a 객체는 Cookie의 인스턴스이다.\n"
   ]
  },
  {
   "cell_type": "markdown",
   "metadata": {},
   "source": [
    "```python\n",
    "class FourCal:\n",
    "    def __init__(self, first, second):\n",
    "        self.first = first\n",
    "        self.second = second\n",
    "    def setdata(self, first, second):\n",
    "        self.first = first\n",
    "        self.second = second\n",
    "    def add(self):\n",
    "        result = self.first + self.second\n",
    "        return result\n",
    "    def mul(self):\n",
    "        result = self.first * self.second\n",
    "        return result\n",
    "    def sub(self):\n",
    "        result = self.first - self.second\n",
    "        return result\n",
    "    def div(self):\n",
    "        result = self.first / self.second\n",
    "        return result\n",
    "```\n",
    "\n",
    "\n",
    "- `setdata 메서드의 매개변수`\n",
    "\n",
    "```python\n",
    "    def setdata(self, first, second):\n",
    "        self.first = first\n",
    "        self.second = second\n",
    "```\n",
    "\n",
    "```python\n",
    "a = FourCal()\n",
    "a.setdata(4, 2)\n",
    "```\n",
    "\n",
    "- a 객체를 만들고 a 객체를 통해 setdata메서드를 호출\n",
    "- a.setdata(4, 2)처럼 호출하면 \n",
    "    - 첫 번째 매개변수 self : `a` 객체\n",
    "    - 두 번째 매개변수 first : `4`\n",
    "    - 세 번째 매개변수 second : `2`\n",
    "    \n",
    "> 메서드 이름을 `__init__` 하지 않았을 경우, 매번 setdata메서드를 호출하여 초깃값을 설정 해야한다.\n",
    "\n",
    "---\n",
    "\n",
    "- `그래서 생성자를 설정한다.`\n",
    "#### 생성자\n",
    "\n",
    "- 객체가 생성될 때 자동으로 호출되는 메서드(초기값 설정)\n",
    "- `__init__` 를 사용하면 이 메서드는 생성자가 된다.\n",
    "\n",
    "\n",
    "```python\n",
    "class FourCal:\n",
    "    def __init__(self, first, second):\n",
    "        self.first = first\n",
    "        self.second = second\n",
    "```\n",
    "\n",
    "- self : 생성되는 객체(객체명)\n",
    "- first : 첫번째 인자값\n",
    "- second : 두번째 인자값\n",
    "\n",
    "\n",
    "- 메서드 이름을 `__init__`으로 했기 때문에 생성자로 인식되어 객체가 생성되는 시점에 자동으로 호출되는 차이가 있다.\n",
    "\n",
    "\n",
    "```python\n",
    "a = FourCal(4, 2)\n",
    "a.add()\n",
    "```"
   ]
  },
  {
   "cell_type": "code",
   "execution_count": 1,
   "metadata": {},
   "outputs": [],
   "source": [
    "class FourCal:\n",
    "    def __init__(self, first, second):\n",
    "        self.first = first\n",
    "        self.second = second\n",
    "    def setdata(self, first, second):\n",
    "        self.first = first\n",
    "        self.second = second\n",
    "    def add(self):\n",
    "        result = self.first + self.second\n",
    "        return result\n",
    "    def mul(self):\n",
    "        result = self.first * self.second\n",
    "        return result\n",
    "    def sub(self):\n",
    "        result = self.first - self.second\n",
    "        return result\n",
    "    def div(self):\n",
    "        result = self.first / self.second\n",
    "        return result"
   ]
  },
  {
   "cell_type": "code",
   "execution_count": 8,
   "metadata": {},
   "outputs": [
    {
     "name": "stdout",
     "output_type": "stream",
     "text": [
      "first= 6 / second= 2\n",
      "add =  8\n",
      "mul =  12\n",
      "sub =  4\n",
      "div =  3.0\n"
     ]
    }
   ],
   "source": [
    "a = FourCal(6,2)\n",
    "print('first=',a.first,'/','second=', a.second)\n",
    "print('add = ',a.add())\n",
    "print('mul = ',a.mul())\n",
    "print('sub = ',a.sub())\n",
    "print('div = ',a.div())"
   ]
  }
 ],
 "metadata": {
  "kernelspec": {
   "display_name": "Python 3",
   "language": "python",
   "name": "python3"
  },
  "language_info": {
   "codemirror_mode": {
    "name": "ipython",
    "version": 3
   },
   "file_extension": ".py",
   "mimetype": "text/x-python",
   "name": "python",
   "nbconvert_exporter": "python",
   "pygments_lexer": "ipython3",
   "version": "3.7.4"
  }
 },
 "nbformat": 4,
 "nbformat_minor": 2
}
