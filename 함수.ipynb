{
 "cells": [
  {
   "cell_type": "markdown",
   "metadata": {},
   "source": [
    "#### 함수\n",
    "- 입력값을 가지고 어떤 일을 수행한 다음에 그 결과물을 내어놓는 것\n",
    "\n",
    "\n",
    "\n",
    "- 함수 형태\n",
    "```python\n",
    "def 함수이름(매개변수):\n",
    "    <수행할 문장>\n",
    "    ...\n",
    "    return 결과값\n",
    "```"
   ]
  },
  {
   "cell_type": "code",
   "execution_count": 1,
   "metadata": {},
   "outputs": [
    {
     "name": "stdout",
     "output_type": "stream",
     "text": [
      "7\n"
     ]
    }
   ],
   "source": [
    "#예시\n",
    "\n",
    "def add(a,b):\n",
    "    return a+b\n",
    "\n",
    "a = 3 ; b = 4\n",
    "c = add(a,b)\n",
    "print(c)"
   ]
  },
  {
   "cell_type": "markdown",
   "metadata": {},
   "source": [
    "#### 매개변수와 인수 - 용어 혼용 주의\n",
    "\n",
    "- 매개변수 : 함수에 입력으로 전달된 값을 받는 변수\n",
    "- 인수 : 함수를 호출할 때 전달하는 입력값\n",
    "\n",
    "\n",
    "```python\n",
    "def add(a,b):  # a, b는 매개변수\n",
    "    return a+b\n",
    "\n",
    "print(add(3,4)) # 3, 4는 인수\n",
    "```"
   ]
  },
  {
   "cell_type": "code",
   "execution_count": 2,
   "metadata": {},
   "outputs": [
    {
     "name": "stdout",
     "output_type": "stream",
     "text": [
      "Hi\n"
     ]
    }
   ],
   "source": [
    "#입력값이 없는 함수\n",
    "def say():\n",
    "    return 'Hi'\n",
    "\n",
    "print(say())"
   ]
  },
  {
   "cell_type": "code",
   "execution_count": 3,
   "metadata": {},
   "outputs": [
    {
     "name": "stdout",
     "output_type": "stream",
     "text": [
      "1, 2의 합은 3입니다.\n"
     ]
    }
   ],
   "source": [
    "#결과값이 없는 함수\n",
    "def add(a, b):\n",
    "    print(\"%d, %d의 합은 %d입니다.\" %(a, b, a+b))\n",
    "\n",
    "add(1,2)"
   ]
  },
  {
   "cell_type": "markdown",
   "metadata": {},
   "source": [
    "#### 입력값이 여러 개일 떄\n",
    "\n",
    "- `*args`\n",
    "    - 인자의 개수가 불명확한 경우 사용\n",
    "    - 가변인자를 활용하여 함수를 선언\n",
    "    - args는 함수 내부에서 `튜플` 처리\n",
    "        - *args는 임의로 정한 변수 이름이다. *pey, *python처럼 아무 이름이나 써도 된다.\n",
    "        \n",
    "\n",
    "```python\n",
    "def 함수이름(*매개변수):\n",
    "    <수행할 문장>\n",
    "    ...\n",
    "```\n"
   ]
  },
  {
   "cell_type": "code",
   "execution_count": 4,
   "metadata": {},
   "outputs": [
    {
     "name": "stdout",
     "output_type": "stream",
     "text": [
      "(3, 5, 1, 2)\n"
     ]
    }
   ],
   "source": [
    "def func1(*args):\n",
    "    print('튜플 형태로 출력 >', args)\n",
    "    \n",
    "func1(3,5,1,2)"
   ]
  },
  {
   "cell_type": "markdown",
   "metadata": {},
   "source": [
    "#### 입력값이 여러 개일 떄\n",
    "\n",
    "- `**kwargs`\n",
    "    - 키워드 인자가 불명확한 경우 사용\n",
    "    - 어떤 키워드 인자가 필요한지 확정되지 않은 경우\n",
    "    - kwargs는 함수 내부에서 `사전` 처리\n",
    "\n",
    "```python\n",
    "def 함수이름(**매개변수):\n",
    "    <수행할 문장>\n",
    "    ...\n",
    "```"
   ]
  },
  {
   "cell_type": "code",
   "execution_count": 10,
   "metadata": {},
   "outputs": [
    {
     "ename": "SyntaxError",
     "evalue": "invalid syntax (<ipython-input-10-21623df8a130>, line 1)",
     "output_type": "error",
     "traceback": [
      "\u001b[1;36m  File \u001b[1;32m\"<ipython-input-10-21623df8a130>\"\u001b[1;36m, line \u001b[1;32m1\u001b[0m\n\u001b[1;33m    def func2(width, height, **kwargs)\u001b[0m\n\u001b[1;37m                                      ^\u001b[0m\n\u001b[1;31mSyntaxError\u001b[0m\u001b[1;31m:\u001b[0m invalid syntax\n"
     ]
    }
   ],
   "source": [
    "def func2(width, height, **kwargs):\n",
    "    print(width, height, '\"사전 형태로 출력 >\"\"',kwargs)\n",
    "    \n",
    "func2(10, 20, depth=50, color='Blue')"
   ]
  },
  {
   "cell_type": "markdown",
   "metadata": {},
   "source": [
    "### lambda\n",
    "\n",
    "```python\n",
    "lambda 매개변수1, 매개변수2 ...\n",
    "\n",
    "```"
   ]
  },
  {
   "cell_type": "code",
   "execution_count": 6,
   "metadata": {},
   "outputs": [
    {
     "name": "stdout",
     "output_type": "stream",
     "text": [
      "lambda > 7\n",
      "일반함수 > 7\n"
     ]
    }
   ],
   "source": [
    "#1, 2 같은 내용의 함수이다.\n",
    "\n",
    "#1\n",
    "add = lambda a, b: a+b\n",
    "result = add(3,4)\n",
    "print('lambda >', result)\n",
    "\n",
    "#2\n",
    "def add(a,b):\n",
    "    return a+b\n",
    "\n",
    "result = add(3,4)\n",
    "print('일반함수 >',result)"
   ]
  }
 ],
 "metadata": {
  "kernelspec": {
   "display_name": "Python 3",
   "language": "python",
   "name": "python3"
  },
  "language_info": {
   "codemirror_mode": {
    "name": "ipython",
    "version": 3
   },
   "file_extension": ".py",
   "mimetype": "text/x-python",
   "name": "python",
   "nbconvert_exporter": "python",
   "pygments_lexer": "ipython3",
   "version": "3.7.4"
  }
 },
 "nbformat": 4,
 "nbformat_minor": 2
}
